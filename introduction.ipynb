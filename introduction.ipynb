{
 "cells": [
  {
   "cell_type": "code",
   "execution_count": 1,
   "metadata": {
    "collapsed": true
   },
   "outputs": [],
   "source": [
    "# Run imports\n",
    "import numpy as np\n",
    "import tensorflow as tf"
   ]
  },
  {
   "cell_type": "markdown",
   "metadata": {},
   "source": [
    "# Shape, rank and type\n",
    "The following code snippet explores the **shape**, **rank** and **type** of tensors. Notice how TensorFlow infers type and shape depending on the contents passed into tf.constant()"
   ]
  },
  {
   "cell_type": "markdown",
   "metadata": {},
   "source": [
    "Notes:\n",
    "Rank of a tensor, starting from 3 tensors is NP hard to compute"
   ]
  },
  {
   "cell_type": "code",
   "execution_count": 2,
   "metadata": {
    "collapsed": false
   },
   "outputs": [
    {
     "name": "stdout",
     "output_type": "stream",
     "text": [
      "\n",
      "shape: (2,)\n",
      "type: <dtype: 'float32'>\n",
      "rank: Tensor(\"Rank:0\", shape=(), dtype=int32)\n",
      "\n",
      "\n",
      "shape: (2, 1)\n",
      "type: <dtype: 'int32'>\n",
      "rank: Tensor(\"Rank_1:0\", shape=(), dtype=int32)\n",
      "\n",
      "\n",
      "shape: (2, 1)\n",
      "type: <dtype: 'float32'>\n",
      "rank: Tensor(\"Rank_2:0\", shape=(), dtype=int32)\n",
      "\n"
     ]
    }
   ],
   "source": [
    "# Shape, rank and type\n",
    "a = tf.constant([3, 2], name=\"a\", dtype=tf.float32) #creating a node into computational graph t.X increases memory\n",
    "b = tf.constant([3, 2], shape=[2,1], name=\"b\")\n",
    "c = tf.constant([[3.0], [2.0]], name=\"c\")\n",
    "\n",
    "def print_info(tensor):\n",
    "    print('\\nshape: {}\\ntype: {}\\nrank: {}\\n'.format(\n",
    "            tensor.get_shape(), tensor.dtype, tf.rank(tensor)))\n",
    "\n",
    "print_info(a)\n",
    "print_info(b)\n",
    "print_info(c)\n",
    "tf.reset_default_graph()"
   ]
  },
  {
   "cell_type": "markdown",
   "metadata": {},
   "source": [
    "# Graph Inspection & Visualization"
   ]
  },
  {
   "cell_type": "code",
   "execution_count": 3,
   "metadata": {
    "collapsed": false
   },
   "outputs": [
    {
     "name": "stdout",
     "output_type": "stream",
     "text": [
      "name: \"a\"\n",
      "op: \"Const\"\n",
      "attr {\n",
      "  key: \"dtype\"\n",
      "  value {\n",
      "    type: DT_INT32\n",
      "  }\n",
      "}\n",
      "attr {\n",
      "  key: \"value\"\n",
      "  value {\n",
      "    tensor {\n",
      "      dtype: DT_INT32\n",
      "      tensor_shape {\n",
      "        dim {\n",
      "          size: 1\n",
      "        }\n",
      "      }\n",
      "      int_val: 3\n",
      "    }\n",
      "  }\n",
      "}\n",
      "\n",
      "name: \"b\"\n",
      "op: \"Const\"\n",
      "attr {\n",
      "  key: \"dtype\"\n",
      "  value {\n",
      "    type: DT_INT32\n",
      "  }\n",
      "}\n",
      "attr {\n",
      "  key: \"value\"\n",
      "  value {\n",
      "    tensor {\n",
      "      dtype: DT_INT32\n",
      "      tensor_shape {\n",
      "        dim {\n",
      "          size: 1\n",
      "        }\n",
      "      }\n",
      "      int_val: 5\n",
      "    }\n",
      "  }\n",
      "}\n",
      "\n",
      "name: \"c\"\n",
      "op: \"Add\"\n",
      "input: \"a\"\n",
      "input: \"b\"\n",
      "attr {\n",
      "  key: \"T\"\n",
      "  value {\n",
      "    type: DT_INT32\n",
      "  }\n",
      "}\n",
      "\n"
     ]
    }
   ],
   "source": [
    "# Graph Inspection via its protocol buffer\n",
    "a = tf.constant([3], name=\"a\")\n",
    "b = tf.constant([5], name=\"b\")\n",
    "c = tf.add(a, b, name=\"c\")\n",
    "graph = tf.get_default_graph()\n",
    "ops = graph.get_operations()\n",
    "for op in ops:\n",
    "  print(op)\n",
    "\n",
    "tf.reset_default_graph()"
   ]
  },
  {
   "cell_type": "code",
   "execution_count": 9,
   "metadata": {
    "collapsed": false
   },
   "outputs": [],
   "source": [
    "# Graph Visualization with TensorBoard\n",
    "x = tf.constant([3], name=\"x\")\n",
    "y = tf.constant([5], name=\"y\")\n",
    "z = tf.add(x, y, name=\"z\")\n",
    "\n",
    "graph = tf.get_default_graph()\n",
    "summary_writer = tf.summary.FileWriter(\"/tmp/logs\", graph)\n",
    "summary_writer.flush()\n",
    "\n",
    "# Inspect via command: tensorboard --logdir=/path/to/logs\n",
    "\n",
    "tf.reset_default_graph()"
   ]
  },
  {
   "cell_type": "markdown",
   "metadata": {},
   "source": [
    "# Basic Ops"
   ]
  },
  {
   "cell_type": "code",
   "execution_count": 10,
   "metadata": {
    "collapsed": false
   },
   "outputs": [
    {
     "name": "stdout",
     "output_type": "stream",
     "text": [
      "[ 1.5  2.5  0.5  0.5  1.5  0.5  1.5  0.5  2.5  2.5]\n"
     ]
    }
   ],
   "source": [
    "# TF Graph that generates a 1-D tensor with 10 values chosen uniformly\n",
    "# at random from {0.5,1.5, 2.5}\n",
    "offset = tf.fill([10], 0.5)\n",
    "random_vec = tf.random_uniform([10], minval=0, maxval=3, dtype=tf.int32)\n",
    "converted_vec = tf.to_float(random_vec)\n",
    "\n",
    "add_op = tf.add(offset, converted_vec)\n",
    "\n",
    "with tf.Session() as sess:\n",
    "  print(sess.run(add_op))\n",
    "\n",
    "tf.reset_default_graph()"
   ]
  },
  {
   "cell_type": "markdown",
   "metadata": {},
   "source": [
    "# More advanced Ops\n",
    "Let $y = p(x) = 2x^2 - 5x + 2$ be a polynomial. The following TF program generates a 2-D tensor of shape=[20, 2] such that:\n",
    "* 1st column contains values 0, 1, …, 19\n",
    "* Values in the 2nd column are $y_i = p(x_i)$ where $x_i$ is the corresponding value in the first column"
   ]
  },
  {
   "cell_type": "code",
   "execution_count": 16,
   "metadata": {
    "collapsed": false
   },
   "outputs": [
    {
     "name": "stdout",
     "output_type": "stream",
     "text": [
      "(20, 1) (20, 1)\n",
      "[[  0   2]\n",
      " [  1  -1]\n",
      " [  2   0]\n",
      " [  3   5]\n",
      " [  4  14]\n",
      " [  5  27]\n",
      " [  6  44]\n",
      " [  7  65]\n",
      " [  8  90]\n",
      " [  9 119]\n",
      " [ 10 152]\n",
      " [ 11 189]\n",
      " [ 12 230]\n",
      " [ 13 275]\n",
      " [ 14 324]\n",
      " [ 15 377]\n",
      " [ 16 434]\n",
      " [ 17 495]\n",
      " [ 18 560]\n",
      " [ 19 629]]\n"
     ]
    }
   ],
   "source": [
    "x = tf.range(20)\n",
    "x = tf.reshape(x, [20, 1])\n",
    "y = 2* tf.square(x) -5 * x + 2\n",
    "print x.shape, y.shape\n",
    "concat_op = tf.concat([x, y],1)\n",
    "\n",
    "with tf.Session() as sess:\n",
    "  print(sess.run(concat_op))\n",
    "\n",
    "tf.reset_default_graph()"
   ]
  },
  {
   "cell_type": "markdown",
   "metadata": {},
   "source": [
    "# Computing Gradients"
   ]
  },
  {
   "cell_type": "code",
   "execution_count": 18,
   "metadata": {
    "collapsed": false
   },
   "outputs": [
    {
     "name": "stdout",
     "output_type": "stream",
     "text": [
      "[2.0, 4.0, [4.0]]\n"
     ]
    }
   ],
   "source": [
    "x = tf.Variable(2.)\n",
    "x_square = tf.square(x)\n",
    "y = tf.gradients([x_square],  [x])\n",
    "init_op = tf.global_variables_initializer()\n",
    "\n",
    "with tf.Session() as sess:\n",
    "  sess.run(init_op)\n",
    "  print(sess.run([x, x_square, y]))\n",
    "    \n",
    "tf.reset_default_graph()"
   ]
  },
  {
   "cell_type": "code",
   "execution_count": null,
   "metadata": {
    "collapsed": false
   },
   "outputs": [],
   "source": []
  }
 ],
 "metadata": {
  "anaconda-cloud": {},
  "kernelspec": {
   "display_name": "Python 2",
   "language": "python",
   "name": "python2"
  },
  "language_info": {
   "codemirror_mode": {
    "name": "ipython",
    "version": 2
   },
   "file_extension": ".py",
   "mimetype": "text/x-python",
   "name": "python",
   "nbconvert_exporter": "python",
   "pygments_lexer": "ipython2",
   "version": "2.7.9"
  }
 },
 "nbformat": 4,
 "nbformat_minor": 0
}
